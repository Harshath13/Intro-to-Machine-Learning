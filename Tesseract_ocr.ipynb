{
  "nbformat": 4,
  "nbformat_minor": 0,
  "metadata": {
    "colab": {
      "provenance": []
    },
    "kernelspec": {
      "name": "python3",
      "display_name": "Python 3"
    },
    "language_info": {
      "name": "python"
    }
  },
  "cells": [
    {
      "cell_type": "code",
      "execution_count": 13,
      "metadata": {
        "colab": {
          "base_uri": "https://localhost:8080/"
        },
        "id": "vFdan0EZxdzt",
        "outputId": "e8e152e0-7f5c-49b3-80ac-698cdd5d650f"
      },
      "outputs": [
        {
          "output_type": "stream",
          "name": "stdout",
          "text": [
            "Reading package lists... Done\n",
            "Building dependency tree       \n",
            "Reading state information... Done\n",
            "tesseract-ocr is already the newest version (4.1.1-2build2).\n",
            "0 upgraded, 0 newly installed, 0 to remove and 23 not upgraded.\n",
            "Looking in indexes: https://pypi.org/simple, https://us-python.pkg.dev/colab-wheels/public/simple/\n",
            "Requirement already satisfied: pytesseract in /usr/local/lib/python3.9/dist-packages (0.3.10)\n",
            "Requirement already satisfied: Pillow>=8.0.0 in /usr/local/lib/python3.9/dist-packages (from pytesseract) (8.4.0)\n",
            "Requirement already satisfied: packaging>=21.3 in /usr/local/lib/python3.9/dist-packages (from pytesseract) (23.0)\n"
          ]
        }
      ],
      "source": [
        "!sudo apt install tesseract-ocr\n",
        "\n",
        "!pip install pytesseract"
      ]
    },
    {
      "cell_type": "code",
      "source": [
        "import pytesseract\n",
        "\n",
        "import shutil\n",
        "\n",
        "import os\n",
        "\n",
        "import random\n",
        "\n",
        "try:\n",
        "  from PIL import Image\n",
        "except ImportError:\n",
        "    import Image  \n"
      ],
      "metadata": {
        "id": "GzAXbW_PytYF"
      },
      "execution_count": 14,
      "outputs": []
    },
    {
      "cell_type": "code",
      "source": [
        "#from google.colab import files\n",
        "\n",
        "#uploaded = files.upload()\n",
        "image = '/content/sample4.jpg'\n"
      ],
      "metadata": {
        "id": "fRma0iWUyw4v"
      },
      "execution_count": 15,
      "outputs": []
    },
    {
      "cell_type": "code",
      "source": [
        "image_path_in_colab= image\n",
        "\n",
        "extractedInformation = pytesseract.image_to_string(Image.open(image_path_in_colab))\n"
      ],
      "metadata": {
        "id": "5wBFL0ocyyic"
      },
      "execution_count": 16,
      "outputs": []
    },
    {
      "cell_type": "code",
      "source": [
        "#print(extractedInformation)"
      ],
      "metadata": {
        "id": "q1UbPhSQy1TI"
      },
      "execution_count": 17,
      "outputs": []
    },
    {
      "cell_type": "markdown",
      "source": [
        "### **Text to Speech**"
      ],
      "metadata": {
        "id": "K2qu8v5qRzcJ"
      }
    },
    {
      "cell_type": "code",
      "source": [
        "!pip install gtts\n",
        "!pip install playsound==1.2.2"
      ],
      "metadata": {
        "colab": {
          "base_uri": "https://localhost:8080/"
        },
        "id": "F5SR5k-iSGUh",
        "outputId": "bfc58e6a-aed0-4e94-d1f8-ddd29353534c"
      },
      "execution_count": 18,
      "outputs": [
        {
          "output_type": "stream",
          "name": "stdout",
          "text": [
            "Looking in indexes: https://pypi.org/simple, https://us-python.pkg.dev/colab-wheels/public/simple/\n",
            "Requirement already satisfied: gtts in /usr/local/lib/python3.9/dist-packages (2.3.1)\n",
            "Requirement already satisfied: click<8.2,>=7.1 in /usr/local/lib/python3.9/dist-packages (from gtts) (8.1.3)\n",
            "Requirement already satisfied: requests<3,>=2.27 in /usr/local/lib/python3.9/dist-packages (from gtts) (2.27.1)\n",
            "Requirement already satisfied: certifi>=2017.4.17 in /usr/local/lib/python3.9/dist-packages (from requests<3,>=2.27->gtts) (2022.12.7)\n",
            "Requirement already satisfied: charset-normalizer~=2.0.0 in /usr/local/lib/python3.9/dist-packages (from requests<3,>=2.27->gtts) (2.0.12)\n",
            "Requirement already satisfied: idna<4,>=2.5 in /usr/local/lib/python3.9/dist-packages (from requests<3,>=2.27->gtts) (3.4)\n",
            "Requirement already satisfied: urllib3<1.27,>=1.21.1 in /usr/local/lib/python3.9/dist-packages (from requests<3,>=2.27->gtts) (1.26.15)\n",
            "Looking in indexes: https://pypi.org/simple, https://us-python.pkg.dev/colab-wheels/public/simple/\n",
            "Requirement already satisfied: playsound==1.2.2 in /usr/local/lib/python3.9/dist-packages (1.2.2)\n"
          ]
        }
      ]
    },
    {
      "cell_type": "code",
      "source": [
        "from playsound import playsound\n",
        "!pip install pyttsx3 "
      ],
      "metadata": {
        "colab": {
          "base_uri": "https://localhost:8080/"
        },
        "id": "-Q96Dd8QT8i1",
        "outputId": "a7747dc5-5df0-4f8f-b32c-434c0c375d0e"
      },
      "execution_count": 19,
      "outputs": [
        {
          "output_type": "stream",
          "name": "stdout",
          "text": [
            "Looking in indexes: https://pypi.org/simple, https://us-python.pkg.dev/colab-wheels/public/simple/\n",
            "Requirement already satisfied: pyttsx3 in /usr/local/lib/python3.9/dist-packages (2.90)\n"
          ]
        }
      ]
    },
    {
      "cell_type": "code",
      "source": [
        "# Import the required module for text\n",
        "# to speech conversion\n",
        "from gtts import gTTS\n",
        "\n",
        "# This module is imported so that we can\n",
        "# play the converted audio\n",
        "import os\n",
        "\n",
        "# The text that you want to convert to audio\n",
        "#mytext = 'Welcome to geeksforgeeks!'\n",
        "\n",
        "# Language in which you want to convert\n",
        "language = 'en'\n",
        "\n",
        "# Passing the text and language to the engine,\n",
        "# here we have marked slow=False. Which tells\n",
        "# the module that the converted audio should\n",
        "# have a high speed\n",
        "myobj = gTTS(text=extractedInformation, lang=language, slow=False)\n",
        "\n",
        "# Saving the converted audio in a mp3 file named\n",
        "# welcome\n",
        "myobj.save(\"welcome.mp3\")\n",
        "\n",
        "# Playing the converted file\n",
        "\n",
        "sound_file = 'welcome.mp3'\n",
        "\n",
        "from IPython.display import Audio, display\n",
        "\n",
        "display(Audio(sound_file, autoplay=True))\n",
        "\n",
        "#os.system(\"mpg321 welcome.mp3\")\n",
        "\n"
      ],
      "metadata": {
        "colab": {
          "base_uri": "https://localhost:8080/",
          "height": 75
        },
        "id": "rZ5HTqvWR-c1",
        "outputId": "58b1d4a8-4a9e-41b1-a9b4-527ef909838d"
      },
      "execution_count": 20,
      "outputs": [
        {
          "output_type": "display_data",
          "data": {
            "text/plain": [
              "<IPython.lib.display.Audio object>"
            ],
            "text/html": [
              "\n",
              "                <audio  controls=\"controls\" autoplay=\"autoplay\">\n",
              "                    <source src=\"data:audio/mpeg;base64,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\" type=\"audio/mpeg\" />\n",
              "                    Your browser does not support the audio element.\n",
              "                </audio>\n",
              "              "
            ]
          },
          "metadata": {}
        }
      ]
    },
    {
      "cell_type": "markdown",
      "source": [
        "## ************* Playsound **code***************"
      ],
      "metadata": {
        "id": "BeQH_0UAVeVD"
      }
    },
    {
      "cell_type": "code",
      "source": [
        "from gtts import gTTS  \n",
        "  \n",
        "# This module is imported so that we can  \n",
        "# play the converted audio  \n",
        "  \n",
        "from playsound import playsound  \n",
        "  \n",
        "# It is a text value that we want to convert to audio  \n",
        "text_val = 'All the best for your exam.'  \n",
        "  \n",
        "# Here are converting in English Language  \n",
        "language = 'en'  \n",
        "  \n",
        "# Passing the text and language to the engine,  \n",
        "# here we have assign slow=False. Which denotes  \n",
        "# the module that the transformed audio should  \n",
        "# have a high speed  \n",
        "obj = gTTS(text=text_val, lang=language, slow=False)  \n",
        "  \n",
        "#Here we are saving the transformed audio in a mp3 file named  \n",
        "# exam.mp3  \n",
        "obj.save(\"exam.mp3\")  \n",
        "\n",
        "sound_file = 'exam.mp3'\n",
        "\n",
        "from IPython.display import Audio, display\n",
        "\n",
        "display(Audio(sound_file, autoplay=True))\n",
        "\n",
        "\n",
        "\n",
        "  \n",
        "# Play the exam.mp3 file  \n",
        "#playsound(\"exam.mp3\")  "
      ],
      "metadata": {
        "colab": {
          "base_uri": "https://localhost:8080/",
          "height": 75
        },
        "id": "jZugjEpRVk38",
        "outputId": "4a3165a4-9847-46e1-a436-6a28b6b7321e"
      },
      "execution_count": 21,
      "outputs": [
        {
          "output_type": "display_data",
          "data": {
            "text/plain": [
              "<IPython.lib.display.Audio object>"
            ],
            "text/html": [
              "\n",
              "                <audio  controls=\"controls\" autoplay=\"autoplay\">\n",
              "                    <source src=\"data:audio/mpeg;base64,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\" type=\"audio/mpeg\" />\n",
              "                    Your browser does not support the audio element.\n",
              "                </audio>\n",
              "              "
            ]
          },
          "metadata": {}
        }
      ]
    },
    {
      "cell_type": "code",
      "source": [],
      "metadata": {
        "id": "QTKSJOelcVuS"
      },
      "execution_count": 21,
      "outputs": []
    },
    {
      "cell_type": "code",
      "source": [
        "!pip install PyObjC"
      ],
      "metadata": {
        "id": "9hZzaNj5V8BT"
      },
      "execution_count": null,
      "outputs": []
    },
    {
      "cell_type": "code",
      "source": [
        "pip install --upgrade setuptools"
      ],
      "metadata": {
        "id": "QBQ6iLirWk__"
      },
      "execution_count": null,
      "outputs": []
    },
    {
      "cell_type": "code",
      "source": [
        "pip install ez_setup"
      ],
      "metadata": {
        "id": "UJtXuHsBWp-7"
      },
      "execution_count": null,
      "outputs": []
    },
    {
      "cell_type": "code",
      "source": [
        "pip install unroll"
      ],
      "metadata": {
        "id": "sVKbY8dwWuZf"
      },
      "execution_count": null,
      "outputs": []
    },
    {
      "cell_type": "code",
      "source": [
        "!pip install -U setuptools"
      ],
      "metadata": {
        "colab": {
          "base_uri": "https://localhost:8080/"
        },
        "id": "Lc08Ui8hWywk",
        "outputId": "2b9742d4-71e2-4b56-b869-7b4e97720f28"
      },
      "execution_count": 26,
      "outputs": [
        {
          "output_type": "stream",
          "name": "stdout",
          "text": [
            "Looking in indexes: https://pypi.org/simple, https://us-python.pkg.dev/colab-wheels/public/simple/\n",
            "Requirement already satisfied: setuptools in /usr/local/lib/python3.9/dist-packages (67.6.0)\n"
          ]
        }
      ]
    }
  ]
}